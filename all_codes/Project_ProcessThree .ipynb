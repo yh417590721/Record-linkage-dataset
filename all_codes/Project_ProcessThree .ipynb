{
 "cells": [
  {
   "cell_type": "code",
   "execution_count": 1,
   "metadata": {},
   "outputs": [],
   "source": [
    "from pyspark.sql.functions import *\n",
    "from pyspark.sql import SparkSession\n",
    "spark = SparkSession\\\n",
    "        .builder.appName('316_Group')\\\n",
    "        .config(\"spark-master\", \"local\")\\\n",
    "        .getOrCreate()\n",
    "\n",
    "#Files' directory\n",
    "directory = 'original file/Unzipped/donation/data/'"
   ]
  },
  {
   "cell_type": "code",
   "execution_count": 2,
   "metadata": {},
   "outputs": [
    {
     "name": "stdout",
     "output_type": "stream",
     "text": [
      "Column: 12\n",
      "Data: 5749132\n"
     ]
    }
   ],
   "source": [
    "\"\"\"\n",
    "Merging block\n",
    "\"\"\"\n",
    "#Load all the files in the folder.\n",
    "\n",
    "data= spark \\\n",
    ".read \\\n",
    ".format(\"csv\") \\\n",
    ".option(\"header\",\"true\")\\\n",
    ".option(\"inferSchema\", \"true\")\\\n",
    ".option(\"nullValue\",\"?\")\\\n",
    ".load(directory)\n",
    "\n",
    "#To see the quantity of columns and data\n",
    "print(\"Column: \" + str(len(data.schema)))#Column: 12, which is correct.\n",
    "print(\"Data: \" + str(data.count()))#Data: 5749132, which is correct.\n"
   ]
  },
  {
   "cell_type": "code",
   "execution_count": 3,
   "metadata": {},
   "outputs": [
    {
     "name": "stdout",
     "output_type": "stream",
     "text": [
      "root\n",
      " |-- id_1: integer (nullable = true)\n",
      " |-- id_2: integer (nullable = true)\n",
      " |-- cmp_fname_c1: double (nullable = true)\n",
      " |-- cmp_fname_c2: double (nullable = true)\n",
      " |-- cmp_lname_c1: double (nullable = true)\n",
      " |-- cmp_lname_c2: double (nullable = true)\n",
      " |-- cmp_sex: integer (nullable = true)\n",
      " |-- cmp_bd: integer (nullable = true)\n",
      " |-- cmp_bm: integer (nullable = true)\n",
      " |-- cmp_by: integer (nullable = true)\n",
      " |-- cmp_plz: integer (nullable = true)\n",
      " |-- is_match: boolean (nullable = true)\n",
      "\n"
     ]
    }
   ],
   "source": [
    "\"\"\"\n",
    "Data Analysis\n",
    "\"\"\"\n",
    "#To see the DataFrame's columns' type\n",
    "data.printSchema()"
   ]
  },
  {
   "cell_type": "code",
   "execution_count": 4,
   "metadata": {},
   "outputs": [
    {
     "name": "stdout",
     "output_type": "stream",
     "text": [
      "Missing Attribute Values:\n",
      "cmp_fname_c1: 1007\n",
      "cmp_fname_c2: 5645434\n",
      "cmp_lname_c1: 0\n",
      "cmp_lname_c2: 5746668\n",
      "cmp_sex: 0\n",
      "cmp_bd: 795\n",
      "cmp_bm: 795\n",
      "cmp_by: 795\n",
      "cmp_plz: 12843\n",
      "is_match: 0\n"
     ]
    },
    {
     "data": {
      "text/plain": [
       "'\\n\"cmp_fname_c2\" column and \"cmp_lname_c2\" column have too many null values \\nwhich take a significantly high percentage of the data in their columns.\\n\\nThe meaning of the \"cmp_fname_c2\" column and \"cmp_lname_c2\" column is that \\n\"agreement of first name, second component\" and \"agreement of last name, second component\".\\n\\nIn my view, it might mean that people don\\'t like filling the field for the second component, \\nso I will not use these two columns as predictive attributes.\\n'"
      ]
     },
     "execution_count": 4,
     "metadata": {},
     "output_type": "execute_result"
    }
   ],
   "source": [
    "#show columns' null value quantity\n",
    "print(\"Missing Attribute Values:\")\n",
    "print(\"cmp_fname_c1: \"+str(data.where(col(\"cmp_fname_c1\").isNull()).count()))\n",
    "print(\"cmp_fname_c2: \"+str(data.where(col(\"cmp_fname_c2\").isNull()).count()))\n",
    "print(\"cmp_lname_c1: \"+str(data.where(col(\"cmp_lname_c1\").isNull()).count()))\n",
    "print(\"cmp_lname_c2: \"+str(data.where(col(\"cmp_lname_c2\").isNull()).count()))\n",
    "print(\"cmp_sex: \"+str(data.where(col(\"cmp_sex\").isNull()).count()))\n",
    "print(\"cmp_bd: \"+str(data.where(col(\"cmp_bd\").isNull()).count()))\n",
    "print(\"cmp_bm: \"+str(data.where(col(\"cmp_bm\").isNull()).count()))\n",
    "print(\"cmp_by: \"+str(data.where(col(\"cmp_by\").isNull()).count()))\n",
    "print(\"cmp_plz: \"+str(data.where(col(\"cmp_plz\").isNull()).count()))\n",
    "print(\"is_match: \"+str(data.where(col(\"is_match\").isNull()).count()))\n",
    "\n",
    "\"\"\"\n",
    "\"cmp_fname_c2\" column and \"cmp_lname_c2\" column have too many null values \n",
    "which take a significantly high percentage of the data in their columns.\n",
    "\n",
    "The meaning of the \"cmp_fname_c2\" column and \"cmp_lname_c2\" column is that \n",
    "\"agreement of first name, second component\" and \"agreement of last name, second component\".\n",
    "\n",
    "In my view, it might mean that people don't like filling the field for the second component, \n",
    "so I will not use these two columns as predictive attributes.\n",
    "\"\"\""
   ]
  },
  {
   "cell_type": "code",
   "execution_count": 5,
   "metadata": {},
   "outputs": [
    {
     "name": "stdout",
     "output_type": "stream",
     "text": [
      "Percentagies of totoal null value: 0.25471671201844037%\n"
     ]
    }
   ],
   "source": [
    "#remove the columns of \"cmp_fname_c2\", \"cmp_lname_c2\", \"id_1\", and \"id_2\"\n",
    "#\"cmp_fname_c2\" and \"cmp_lname_c2\" have too many null data\n",
    "data_new = data.drop(\"cmp_fname_c2\", \"cmp_lname_c2\",\"id_1\",\"id_2\")\n",
    "\n",
    "total_null = data_new.where(col(\"cmp_fname_c1\")\\\n",
    "               .isNull()|col(\"cmp_bd\")\\\n",
    "               .isNull()|col(\"cmp_bm\")\\\n",
    "               .isNull()|col(\"cmp_by\")\\\n",
    "               .isNull()|col(\"cmp_plz\")\\\n",
    "               .isNull()).count()\n",
    "\n",
    "print(\"Percentagies of totoal null value: \"+str((total_null/5749132)*100) + \"%\")\n",
    "#They only take 0.25471671201844037% which is much smaller than 5%, \n",
    "#so we can eliminate objects with missing values"
   ]
  },
  {
   "cell_type": "code",
   "execution_count": 6,
   "metadata": {},
   "outputs": [],
   "source": [
    "#Renew the data which don't have a null value.\n",
    "data_new = data_new.where(col(\"cmp_fname_c1\")\\\n",
    "               .isNotNull()&col(\"cmp_bd\")\\\n",
    "               .isNotNull()&col(\"cmp_bm\")\\\n",
    "               .isNotNull()&col(\"cmp_by\")\\\n",
    "               .isNotNull()&col(\"cmp_plz\")\\\n",
    "               .isNotNull())"
   ]
  },
  {
   "cell_type": "code",
   "execution_count": 7,
   "metadata": {},
   "outputs": [
    {
     "name": "stdout",
     "output_type": "stream",
     "text": [
      "+-------+------------------+-------------------+-------------------+-------------------+-------------------+-------------------+--------------------+\n",
      "|summary|      cmp_fname_c1|       cmp_lname_c1|            cmp_sex|             cmp_bd|             cmp_bm|             cmp_by|             cmp_plz|\n",
      "+-------+------------------+-------------------+-------------------+-------------------+-------------------+-------------------+--------------------+\n",
      "|  count|           5734488|            5734488|            5734488|            5734488|            5734488|            5734488|             5734488|\n",
      "|   mean|0.7128378763439656|0.31565622641400654|  0.955898591120951|0.22440294582532913|0.48879481481171466|0.22266033166343707|0.005528305229690951|\n",
      "| stddev|0.3887937288745518| 0.3342432492920115|0.20532043728115867| 0.4171885593841717| 0.4998744716415133|  0.416032136438687| 0.07414677356226697|\n",
      "|    min|               0.0|                0.0|                  0|                  0|                  0|                  0|                   0|\n",
      "|    max|               1.0|                1.0|                  1|                  1|                  1|                  1|                   1|\n",
      "+-------+------------------+-------------------+-------------------+-------------------+-------------------+-------------------+--------------------+\n",
      "\n"
     ]
    }
   ],
   "source": [
    "#Use describe() to compute the basic statistics for columns except \"id_1\" and \"id_2\" columns\n",
    "data_new.describe().show()\n",
    "#count, mean, standard deviation, min and max\n"
   ]
  },
  {
   "cell_type": "code",
   "execution_count": 8,
   "metadata": {
    "scrolled": false
   },
   "outputs": [
    {
     "name": "stdout",
     "output_type": "stream",
     "text": [
      "Quantiles and Percentiles for cmp_fname_c1 and cmp_lname_c1:\n"
     ]
    },
    {
     "data": {
      "text/plain": [
       "[[0.0, 0.375, 1.0, 1.0, 1.0],\n",
       " [0.0, 0.111111111111111, 0.2, 0.6, 1.0],\n",
       " [0.0, 1.0, 1.0, 1.0, 1.0],\n",
       " [0.0, 0.0, 0.0, 1.0, 1.0],\n",
       " [0.0, 0.0, 1.0, 1.0, 1.0],\n",
       " [0.0, 0.0, 0.0, 1.0, 1.0],\n",
       " [0.0, 0.0, 0.0, 0.0, 1.0]]"
      ]
     },
     "execution_count": 8,
     "metadata": {},
     "output_type": "execute_result"
    }
   ],
   "source": [
    "\"\"\"\n",
    "There is the explaination of the data in the documentation file:\n",
    "\n",
    "The agreement of name components is measured as a real number in the interval [0,1], \n",
    "where 0 denotes maximal disagreement and 1 equality of the underlying values. \n",
    "\n",
    "For the other comparisons, only the values 0 (not equal) and 1 (equal) are used.\n",
    "\"\"\"\n",
    "\n",
    "#Quantiles and Percentiles\n",
    "quantileProbs = [0.025, 0.25, 0.5, 0.75, 0.975]\n",
    "relError = 0.05 # may be expensive if set to 0\n",
    "print(\"Quantiles and Percentiles for cmp_fname_c1 and cmp_lname_c1:\")\n",
    "data_new.stat.approxQuantile([\"cmp_fname_c1\",\"cmp_lname_c1\",\"cmp_sex\",\"cmp_bd\",\"cmp_bm\",\"cmp_by\",\"cmp_plz\"],quantileProbs, relError)"
   ]
  },
  {
   "cell_type": "code",
   "execution_count": 9,
   "metadata": {},
   "outputs": [
    {
     "data": {
      "text/plain": [
       "<Figure size 640x480 with 1 Axes>"
      ]
     },
     "metadata": {},
     "output_type": "display_data"
    }
   ],
   "source": [
    "import matplotlib.pyplot as plt\n",
    "Bar_cmp_fname_c1 = data_new.groupBy(\"cmp_fname_c1\").agg(count(\"cmp_fname_c1\"))\n",
    "CF_x = Bar_cmp_fname_c1.select(\"cmp_fname_c1\").toPandas().values\n",
    "CF_y = Bar_cmp_fname_c1.select(\"count(cmp_fname_c1)\").toPandas().values\n",
    "\n",
    "CF_x= CF_x.flatten()\n",
    "CF_y= CF_y.flatten()\n",
    "\n",
    "plt.bar(CF_x, CF_y, align =  'center') \n",
    "plt.title('Bar graph for \"cmp_fname_c1\" column') \n",
    "plt.ylabel('Y axis') \n",
    "plt.xlabel('X axis') \n",
    "plt.show()"
   ]
  },
  {
   "cell_type": "code",
   "execution_count": 10,
   "metadata": {},
   "outputs": [
    {
     "data": {
      "image/png": "[encoded data removed]",
      "text/plain": [
       "<Figure size 432x288 with 1 Axes>"
      ]
     },
     "metadata": {
      "needs_background": "light"
     },
     "output_type": "display_data"
    }
   ],
   "source": [
    "Bar_cmp_lname_c1 = data_new.groupBy(\"cmp_lname_c1\").agg(count(\"cmp_lname_c1\"))\n",
    "CL_x = Bar_cmp_lname_c1.select(\"cmp_lname_c1\").toPandas().values\n",
    "CL_y = Bar_cmp_lname_c1.select(\"count(cmp_lname_c1)\").toPandas().values\n",
    "\n",
    "CL_x= CL_x.flatten()\n",
    "CL_y= CL_y.flatten()\n",
    "\n",
    "plt.bar(CL_x, CL_y, align =  'center') \n",
    "plt.title('Bar graph for \"cmp_lname_c1\" column') \n",
    "plt.ylabel('Y axis') \n",
    "plt.xlabel('X axis') \n",
    "plt.show()"
   ]
  },
  {
   "cell_type": "code",
   "execution_count": 11,
   "metadata": {},
   "outputs": [
    {
     "data": {
      "image/png": "[encoded data removed]",
      "text/plain": [
       "<Figure size 432x288 with 1 Axes>"
      ]
     },
     "metadata": {
      "needs_background": "light"
     },
     "output_type": "display_data"
    }
   ],
   "source": [
    "Bar_cmp_sex = data_new.groupBy(\"cmp_sex\").agg(count(\"cmp_sex\"))\n",
    "CS_x = Bar_cmp_sex.select(\"cmp_sex\").toPandas().values\n",
    "CS_y = Bar_cmp_sex.select(\"count(cmp_sex)\").toPandas().values\n",
    "\n",
    "CS_x= CS_x.flatten()\n",
    "CS_y= CS_y.flatten()\n",
    "\n",
    "plt.bar(CS_x, CS_y, align =  'center') \n",
    "plt.title('Bar graph for \"cmp_sex\" column') \n",
    "plt.ylabel('Y axis') \n",
    "plt.xlabel('X axis') \n",
    "plt.show()"
   ]
  },
  {
   "cell_type": "code",
   "execution_count": 12,
   "metadata": {},
   "outputs": [
    {
     "data": {
      "image/png": "[encoded data removed]",
      "text/plain": [
       "<Figure size 432x288 with 1 Axes>"
      ]
     },
     "metadata": {
      "needs_background": "light"
     },
     "output_type": "display_data"
    }
   ],
   "source": [
    "Bar_cmp_bd = data_new.groupBy(\"cmp_bd\").agg(count(\"cmp_bd\"))\n",
    "CBD_x = Bar_cmp_bd.select(\"cmp_bd\").toPandas().values\n",
    "CBD_y = Bar_cmp_bd.select(\"count(cmp_bd)\").toPandas().values\n",
    "\n",
    "CBD_x= CBD_x.flatten()\n",
    "CBD_y= CBD_y.flatten()\n",
    "\n",
    "plt.bar(CBD_x, CBD_y, align =  'center') \n",
    "plt.title('Bar graph for \"cmp_bd\" column') \n",
    "plt.ylabel('Y axis') \n",
    "plt.xlabel('X axis') \n",
    "plt.show()"
   ]
  },
  {
   "cell_type": "code",
   "execution_count": 13,
   "metadata": {},
   "outputs": [
    {
     "data": {
      "image/png": "[encoded data removed]",
      "text/plain": [
       "<Figure size 432x288 with 1 Axes>"
      ]
     },
     "metadata": {
      "needs_background": "light"
     },
     "output_type": "display_data"
    }
   ],
   "source": [
    "Bar_cmp_bm = data_new.groupBy(\"cmp_bm\").agg(count(\"cmp_bm\"))\n",
    "CBM_x = Bar_cmp_bm.select(\"cmp_bm\").toPandas().values\n",
    "CBM_y = Bar_cmp_bm.select(\"count(cmp_bm)\").toPandas().values\n",
    "\n",
    "CBM_x= CBM_x.flatten()\n",
    "CBM_y= CBM_y.flatten()\n",
    "\n",
    "plt.bar(CBM_x, CBM_y, align =  'center') \n",
    "plt.title('Bar graph for \"cmp_bm\" column') \n",
    "plt.ylabel('Y axis') \n",
    "plt.xlabel('X axis') \n",
    "plt.show()"
   ]
  },
  {
   "cell_type": "code",
   "execution_count": 14,
   "metadata": {},
   "outputs": [
    {
     "data": {
      "image/png": "[encoded data removed]",
      "text/plain": [
       "<Figure size 432x288 with 1 Axes>"
      ]
     },
     "metadata": {
      "needs_background": "light"
     },
     "output_type": "display_data"
    }
   ],
   "source": [
    "Bar_cmp_by = data_new.groupBy(\"cmp_by\").agg(count(\"cmp_by\"))\n",
    "CBY_x = Bar_cmp_by.select(\"cmp_by\").toPandas().values\n",
    "CBY_y = Bar_cmp_by.select(\"count(cmp_by)\").toPandas().values\n",
    "\n",
    "CBY_x= CBY_x.flatten()\n",
    "CBY_y= CBY_y.flatten()\n",
    "\n",
    "plt.bar(CBY_x, CBY_y, align =  'center') \n",
    "plt.title('Bar graph for \"cmp_by\" column') \n",
    "plt.ylabel('Y axis') \n",
    "plt.xlabel('X axis') \n",
    "plt.show()"
   ]
  },
  {
   "cell_type": "code",
   "execution_count": 15,
   "metadata": {},
   "outputs": [
    {
     "data": {
      "image/png": "[encoded data removed]",
      "text/plain": [
       "<Figure size 432x288 with 1 Axes>"
      ]
     },
     "metadata": {
      "needs_background": "light"
     },
     "output_type": "display_data"
    }
   ],
   "source": [
    "Bar_cmp_plz = data_new.groupBy(\"cmp_plz\").agg(count(\"cmp_plz\"))\n",
    "CMP_x = Bar_cmp_plz.select(\"cmp_plz\").toPandas().values\n",
    "CMP_y = Bar_cmp_plz.select(\"count(cmp_plz)\").toPandas().values\n",
    "\n",
    "CMP_x= CMP_x.flatten()\n",
    "CMP_y= CMP_y.flatten()\n",
    "\n",
    "plt.bar(CMP_x, CMP_y, align =  'center') \n",
    "plt.title('Bar graph for \"cmp_plz\" column') \n",
    "plt.ylabel('Y axis') \n",
    "plt.xlabel('X axis') \n",
    "plt.show()"
   ]
  },
  {
   "cell_type": "code",
   "execution_count": 16,
   "metadata": {},
   "outputs": [],
   "source": [
    "#Shuffle the data and split it into training set and test set.\n",
    "test_set,train_set = data_new.randomSplit([0.3, 0.7], data_new.count())\n",
    "#split training set into attributes and classes\n",
    "test_attributes = test_set.drop(\"is_match\")\n",
    "test_classes = test_set.select(\"is_match\")\n",
    "#split test set into attributes and classes\n",
    "train_attributes = train_set.drop(\"is_match\")\n",
    "train_classes = train_set.select(\"is_match\")"
   ]
  },
  {
   "cell_type": "code",
   "execution_count": 17,
   "metadata": {},
   "outputs": [],
   "source": [
    "#Convert them into numpy array.\n",
    "test_attributes = test_attributes.toPandas().values\n",
    "train_attributes = train_attributes.toPandas().values\n",
    "test_classes = test_classes.toPandas().values\n",
    "train_classes = train_classes.toPandas().values"
   ]
  },
  {
   "cell_type": "code",
   "execution_count": 29,
   "metadata": {
    "scrolled": true
   },
   "outputs": [
    {
     "name": "stdout",
     "output_type": "stream",
     "text": [
      "_________________________________________________________________\n",
      "Layer (type)                 Output Shape              Param #   \n",
      "=================================================================\n",
      "dense_9 (Dense)              (None, 7)                 56        \n",
      "_________________________________________________________________\n",
      "dense_10 (Dense)             (None, 30)                240       \n",
      "_________________________________________________________________\n",
      "dense_11 (Dense)             (None, 15)                465       \n",
      "_________________________________________________________________\n",
      "dense_12 (Dense)             (None, 1)                 16        \n",
      "=================================================================\n",
      "Total params: 777\n",
      "Trainable params: 777\n",
      "Non-trainable params: 0\n",
      "_________________________________________________________________\n",
      "Epoch 1/5\n",
      "4012191/4012191 [==============================] - 3s 1us/step - loss: 1.7752 - acc: 0.9249 - mean_absolute_error: 0.3985\n",
      "Epoch 2/5\n",
      "4012191/4012191 [==============================] - 1s 0us/step - loss: 1.6303 - acc: 0.9697 - mean_absolute_error: 0.3088\n",
      "Epoch 3/5\n",
      "4012191/4012191 [==============================] - 2s 0us/step - loss: 1.5410 - acc: 0.9803 - mean_absolute_error: 0.2482\n",
      "Epoch 4/5\n",
      "4012191/4012191 [==============================] - 2s 0us/step - loss: 1.4812 - acc: 0.9963 - mean_absolute_error: 0.2059\n",
      "Epoch 5/5\n",
      "4012191/4012191 [==============================] - 2s 0us/step - loss: 1.4383 - acc: 0.9963 - mean_absolute_error: 0.1752\n",
      " 614208/1722297 [=========>....................] - ETA: 23s"
     ]
    },
    {
     "ename": "KeyboardInterrupt",
     "evalue": "",
     "output_type": "error",
     "traceback": [
      "\u001b[0;31m---------------------------------------------------------------------------\u001b[0m",
      "\u001b[0;31mKeyboardInterrupt\u001b[0m                         Traceback (most recent call last)",
      "\u001b[0;32m<ipython-input-29-9361468830d9>\u001b[0m in \u001b[0;36m<module>\u001b[0;34m\u001b[0m\n\u001b[1;32m     36\u001b[0m \u001b[0mhistory\u001b[0m\u001b[0;34m=\u001b[0m\u001b[0mDNN\u001b[0m\u001b[0;34m.\u001b[0m\u001b[0mfit\u001b[0m\u001b[0;34m(\u001b[0m\u001b[0mtrain_attributes\u001b[0m\u001b[0;34m,\u001b[0m\u001b[0mtrain_classes\u001b[0m\u001b[0;34m,\u001b[0m\u001b[0mbatch_size\u001b[0m \u001b[0;34m=\u001b[0m \u001b[0me_records\u001b[0m\u001b[0;34m,\u001b[0m\u001b[0mepochs\u001b[0m\u001b[0;34m=\u001b[0m\u001b[0mn_epochs\u001b[0m\u001b[0;34m)\u001b[0m\u001b[0;34m\u001b[0m\u001b[0;34m\u001b[0m\u001b[0m\n\u001b[1;32m     37\u001b[0m \u001b[0;34m\u001b[0m\u001b[0m\n\u001b[0;32m---> 38\u001b[0;31m \u001b[0mscore\u001b[0m \u001b[0;34m=\u001b[0m \u001b[0mDNN\u001b[0m\u001b[0;34m.\u001b[0m\u001b[0mevaluate\u001b[0m\u001b[0;34m(\u001b[0m\u001b[0mtest_attributes\u001b[0m\u001b[0;34m,\u001b[0m\u001b[0mtest_classes\u001b[0m\u001b[0;34m)\u001b[0m\u001b[0;34m\u001b[0m\u001b[0;34m\u001b[0m\u001b[0m\n\u001b[0m",
      "\u001b[0;32m~/anaconda3/lib/python3.7/site-packages/keras/engine/training.py\u001b[0m in \u001b[0;36mevaluate\u001b[0;34m(self, x, y, batch_size, verbose, sample_weight, steps)\u001b[0m\n\u001b[1;32m   1111\u001b[0m                                          \u001b[0mbatch_size\u001b[0m\u001b[0;34m=\u001b[0m\u001b[0mbatch_size\u001b[0m\u001b[0;34m,\u001b[0m\u001b[0;34m\u001b[0m\u001b[0;34m\u001b[0m\u001b[0m\n\u001b[1;32m   1112\u001b[0m                                          \u001b[0mverbose\u001b[0m\u001b[0;34m=\u001b[0m\u001b[0mverbose\u001b[0m\u001b[0;34m,\u001b[0m\u001b[0;34m\u001b[0m\u001b[0;34m\u001b[0m\u001b[0m\n\u001b[0;32m-> 1113\u001b[0;31m                                          steps=steps)\n\u001b[0m\u001b[1;32m   1114\u001b[0m \u001b[0;34m\u001b[0m\u001b[0m\n\u001b[1;32m   1115\u001b[0m     def predict(self, x,\n",
      "\u001b[0;32m~/anaconda3/lib/python3.7/site-packages/keras/engine/training_arrays.py\u001b[0m in \u001b[0;36mtest_loop\u001b[0;34m(model, f, ins, batch_size, verbose, steps)\u001b[0m\n\u001b[1;32m    406\u001b[0m \u001b[0;34m\u001b[0m\u001b[0m\n\u001b[1;32m    407\u001b[0m             \u001b[0;32mif\u001b[0m \u001b[0mverbose\u001b[0m \u001b[0;34m==\u001b[0m \u001b[0;36m1\u001b[0m\u001b[0;34m:\u001b[0m\u001b[0;34m\u001b[0m\u001b[0;34m\u001b[0m\u001b[0m\n\u001b[0;32m--> 408\u001b[0;31m                 \u001b[0mprogbar\u001b[0m\u001b[0;34m.\u001b[0m\u001b[0mupdate\u001b[0m\u001b[0;34m(\u001b[0m\u001b[0mbatch_end\u001b[0m\u001b[0;34m)\u001b[0m\u001b[0;34m\u001b[0m\u001b[0;34m\u001b[0m\u001b[0m\n\u001b[0m\u001b[1;32m    409\u001b[0m         \u001b[0;32mfor\u001b[0m \u001b[0mi\u001b[0m \u001b[0;32min\u001b[0m \u001b[0mrange\u001b[0m\u001b[0;34m(\u001b[0m\u001b[0mlen\u001b[0m\u001b[0;34m(\u001b[0m\u001b[0mouts\u001b[0m\u001b[0;34m)\u001b[0m\u001b[0;34m)\u001b[0m\u001b[0;34m:\u001b[0m\u001b[0;34m\u001b[0m\u001b[0;34m\u001b[0m\u001b[0m\n\u001b[1;32m    410\u001b[0m             \u001b[0;32mif\u001b[0m \u001b[0mi\u001b[0m \u001b[0;32mnot\u001b[0m \u001b[0;32min\u001b[0m \u001b[0mstateful_metric_indices\u001b[0m\u001b[0;34m:\u001b[0m\u001b[0;34m\u001b[0m\u001b[0;34m\u001b[0m\u001b[0m\n",
      "\u001b[0;32m~/anaconda3/lib/python3.7/site-packages/keras/utils/generic_utils.py\u001b[0m in \u001b[0;36mupdate\u001b[0;34m(self, current, values)\u001b[0m\n\u001b[1;32m    346\u001b[0m \u001b[0;34m\u001b[0m\u001b[0m\n\u001b[1;32m    347\u001b[0m         \u001b[0mnow\u001b[0m \u001b[0;34m=\u001b[0m \u001b[0mtime\u001b[0m\u001b[0;34m.\u001b[0m\u001b[0mtime\u001b[0m\u001b[0;34m(\u001b[0m\u001b[0;34m)\u001b[0m\u001b[0;34m\u001b[0m\u001b[0;34m\u001b[0m\u001b[0m\n\u001b[0;32m--> 348\u001b[0;31m         \u001b[0minfo\u001b[0m \u001b[0;34m=\u001b[0m \u001b[0;34m' - %.0fs'\u001b[0m \u001b[0;34m%\u001b[0m \u001b[0;34m(\u001b[0m\u001b[0mnow\u001b[0m \u001b[0;34m-\u001b[0m \u001b[0mself\u001b[0m\u001b[0;34m.\u001b[0m\u001b[0m_start\u001b[0m\u001b[0;34m)\u001b[0m\u001b[0;34m\u001b[0m\u001b[0;34m\u001b[0m\u001b[0m\n\u001b[0m\u001b[1;32m    349\u001b[0m         \u001b[0;32mif\u001b[0m \u001b[0mself\u001b[0m\u001b[0;34m.\u001b[0m\u001b[0mverbose\u001b[0m \u001b[0;34m==\u001b[0m \u001b[0;36m1\u001b[0m\u001b[0;34m:\u001b[0m\u001b[0;34m\u001b[0m\u001b[0;34m\u001b[0m\u001b[0m\n\u001b[1;32m    350\u001b[0m             if (now - self._last_update < self.interval and\n",
      "\u001b[0;31mKeyboardInterrupt\u001b[0m: "
     ]
    }
   ],
   "source": [
    "import tensorflow as tf\n",
    "from keras.models import Sequential\n",
    "from keras.layers import Dense,regularizers\n",
    "\n",
    "e_records,_ = train_attributes.shape\n",
    "n_neurons_h = 30 #hidden layer nurons\n",
    "n_neurons_out = 1 #we only has one \n",
    "n_epochs = 5 #iterations\n",
    "learning_rate = 0.1\n",
    "_,n_records = train_attributes.shape\n",
    "\n",
    "DNN =Sequential()\n",
    "#Input dimension should be same with the number of attributes\n",
    "DNN.add(Dense(7, input_dim=7))\n",
    "\n",
    "# tanh is a very practical activation function for the hidden layers,\n",
    "#use Regularisation to advoid overfitting\n",
    "DNN.add(Dense(n_neurons_h,activation='tanh',kernel_regularizer=regularizers.l1(0.01)))\n",
    "DNN.add(Dense(int(n_neurons_h/2),activation='tanh',kernel_regularizer=regularizers.l1(0.01)))\n",
    "\n",
    "#it is binary classification so we use logistic function which is sigmoid for the output layer, \n",
    "#use Regularisation to advoid overfitting\n",
    "DNN.add(Dense(n_neurons_out,activation='sigmoid',kernel_regularizer=regularizers.l1(0.01)))\n",
    "#MLP.add(Dense(n_neurons_out,activation='sigmoid'))\n",
    "\n",
    "DNN.summary()\n",
    "\n",
    "#Batch Gradient Descent Optimizer and binary_crossentropy for loss\n",
    "DNN.compile(loss='binary_crossentropy',optimizer=tf.train.GradientDescentOptimizer(learning_rate),\n",
    "            metrics=['acc','mae'])\n",
    "\n",
    "\"\"\"\n",
    "Advantages: global optimal solution; easy to implement in parallel;\n",
    "Disadvantages: When the number of samples is large, the training process will be slow.\n",
    "\"\"\"\n",
    "history=DNN.fit(train_attributes,train_classes,batch_size = int(e_records/10),epochs=n_epochs)\n",
    "\n",
    "score = DNN.evaluate(test_attributes,test_classes)\n"
   ]
  },
  {
   "cell_type": "code",
   "execution_count": null,
   "metadata": {},
   "outputs": [],
   "source": []
  },
  {
   "cell_type": "code",
   "execution_count": 31,
   "metadata": {},
   "outputs": [
    {
     "name": "stdout",
     "output_type": "stream",
     "text": [
      "Model: \"sequential_10\"\n",
      "_________________________________________________________________\n",
      "Layer (type)                 Output Shape              Param #   \n",
      "=================================================================\n",
      "embedding_4 (Embedding)      (None, None, 7)           49        \n",
      "_________________________________________________________________\n",
      "simple_rnn_8 (SimpleRNN)     (None, 30)                1140      \n",
      "_________________________________________________________________\n",
      "dense_10 (Dense)             (None, 1)                 31        \n",
      "=================================================================\n",
      "Total params: 1,220\n",
      "Trainable params: 1,220\n",
      "Non-trainable params: 0\n",
      "_________________________________________________________________\n",
      "Epoch 1/5\n",
      "4012191/4012191 [==============================] - 2s 1us/sample - loss: 0.2565 - acc: 0.9852 - mean_absolute_error: 0.2099\n",
      "Epoch 2/5\n",
      "4012191/4012191 [==============================] - 2s 1us/sample - loss: 0.0435 - acc: 0.9963 - mean_absolute_error: 0.0351\n",
      "Epoch 3/5\n",
      "4012191/4012191 [==============================] - 2s 1us/sample - loss: 0.0311 - acc: 0.9963 - mean_absolute_error: 0.0210\n",
      "Epoch 4/5\n",
      "4012191/4012191 [==============================] - 2s 1us/sample - loss: 0.0272 - acc: 0.9963 - mean_absolute_error: 0.0161\n",
      "Epoch 5/5\n",
      "4012191/4012191 [==============================] - 2s 1us/sample - loss: 0.0254 - acc: 0.9963 - mean_absolute_error: 0.0135\n"
     ]
    },
    {
     "data": {
      "text/plain": [
       "<tensorflow.python.keras.callbacks.History at 0x7f0716963d50>"
      ]
     },
     "execution_count": 31,
     "metadata": {},
     "output_type": "execute_result"
    }
   ],
   "source": [
    "#RNN takes large computation and memory.\n",
    "\n",
    "from tensorflow import keras\n",
    "\n",
    "n_neurons_h = 30\n",
    "n_neurons_out = 1\n",
    "learning_rate = 0.1\n",
    "n_epochs = 5\n",
    "e_records,_ = train_attributes.shape\n",
    "\n",
    "RNN = tf.keras.Sequential()\n",
    "\n",
    "#Use Embedding layer to put the data to model\n",
    "RNN.add(keras.layers.Embedding(input_dim=7, output_dim=7))\n",
    "# Add a RNN layer with 30 internal units.\n",
    "RNN.add(keras.layers.SimpleRNN(n_neurons_h))\n",
    "\n",
    "# Add a Dense layer with 1 units and sigmoid activation.\n",
    "RNN.add(keras.layers.Dense(n_neurons_out, activation='sigmoid'))\n",
    "\n",
    "RNN.summary()\n",
    "\n",
    "RNN.compile(optimizer=tf.train.GradientDescentOptimizer(learning_rate),\n",
    "              loss='binary_crossentropy',\n",
    "              metrics=['accuracy','mae'])\n",
    "\n",
    "RNN.fit(train_attributes,train_classes,batch_size = int(e_records/10),epochs = n_epochs)\n",
    "\n"
   ]
  },
  {
   "cell_type": "code",
   "execution_count": 41,
   "metadata": {},
   "outputs": [
    {
     "name": "stdout",
     "output_type": "stream",
     "text": [
      "_________________________________________________________________\n",
      "Layer (type)                 Output Shape              Param #   \n",
      "=================================================================\n",
      "conv1d_11 (Conv1D)           (None, 7, 7)              14        \n",
      "_________________________________________________________________\n",
      "max_pooling1d_10 (MaxPooling (None, 4, 7)              0         \n",
      "_________________________________________________________________\n",
      "flatten_7 (Flatten)          (None, 28)                0         \n",
      "_________________________________________________________________\n",
      "dense_18 (Dense)             (None, 1)                 29        \n",
      "=================================================================\n",
      "Total params: 43\n",
      "Trainable params: 43\n",
      "Non-trainable params: 0\n",
      "_________________________________________________________________\n",
      "Epoch 1/5\n",
      "5/5 [==============================] - 40s 8s/step - loss: 0.7723 - acc: 0.4013 - mean_absolute_error: 0.5323\n",
      "Epoch 2/5\n",
      "5/5 [==============================] - 16s 3s/step - loss: 0.4361 - acc: 0.9908 - mean_absolute_error: 0.3512\n",
      "Epoch 3/5\n",
      "5/5 [==============================] - 16s 3s/step - loss: 0.2727 - acc: 0.9963 - mean_absolute_error: 0.2365\n",
      "Epoch 4/5\n",
      "5/5 [==============================] - 16s 3s/step - loss: 0.1843 - acc: 0.9963 - mean_absolute_error: 0.1653\n",
      "Epoch 5/5\n",
      "5/5 [==============================] - 16s 3s/step - loss: 0.1340 - acc: 0.9963 - mean_absolute_error: 0.1215\n"
     ]
    },
    {
     "data": {
      "text/plain": [
       "<keras.callbacks.History at 0x7f070bc9dd90>"
      ]
     },
     "execution_count": 41,
     "metadata": {},
     "output_type": "execute_result"
    }
   ],
   "source": [
    "from keras.models import Sequential\n",
    "from keras.layers import Dense ,Conv1D, Flatten, MaxPooling1D\n",
    "\n",
    "#CNN takes largest computation and memory.\n",
    "\n",
    "n_neurons_input = 7\n",
    "n_neurons_out = 1\n",
    "learning_rate = 0.1\n",
    "n_epochs = 5\n",
    "e_records,_ = train_attributes.shape\n",
    "\n",
    "#Expand training set's dimension to be able to put it into the model\n",
    "train_attributes_expand = tf.expand_dims(train_attributes, 2)\n",
    "\n",
    "#create model\n",
    "CNN = Sequential()\n",
    "#Convolutional Layer\n",
    "CNN.add(Conv1D(n_neurons_input, kernel_size=1, activation='tanh', input_shape=(7,1)))\n",
    "#shunk the data.\n",
    "CNN.add(MaxPooling1D(pool_size=2, strides=None, padding='same', data_format='channels_last'))\n",
    "#Flatten layer\n",
    "CNN.add(Flatten())\n",
    "#Output layer\n",
    "CNN.add(Dense(n_neurons_out, activation='sigmoid'))\n",
    "\n",
    "CNN.summary()\n",
    "\n",
    "CNN.compile(optimizer=tf.train.GradientDescentOptimizer(learning_rate),\n",
    "              loss='binary_crossentropy',\n",
    "              metrics=['accuracy','mae'])\n",
    "\n",
    "CNN.fit(train_attributes_expand,train_classes,epochs = n_epochs,steps_per_epoch = 5)"
   ]
  },
  {
   "cell_type": "code",
   "execution_count": null,
   "metadata": {},
   "outputs": [],
   "source": []
  }
 ],
 "metadata": {
  "kernelspec": {
   "display_name": "Python 3",
   "language": "python",
   "name": "python3"
  },
  "language_info": {
   "codemirror_mode": {
    "name": "ipython",
    "version": 3
   },
   "file_extension": ".py",
   "mimetype": "text/x-python",
   "name": "python",
   "nbconvert_exporter": "python",
   "pygments_lexer": "ipython3",
   "version": "3.7.4"
  }
 },
 "nbformat": 4,
 "nbformat_minor": 2
}
